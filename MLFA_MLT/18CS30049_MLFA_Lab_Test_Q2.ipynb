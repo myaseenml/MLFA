{
  "cells": [
    {
      "cell_type": "markdown",
      "metadata": {
        "id": "svvqtsqJykCy"
      },
      "source": [
        "# **MLFA LAb Test Question 2**"
      ]
    },
    {
      "cell_type": "code",
      "execution_count": 1,
      "metadata": {
        "id": "yIXNUUQ6yjEt"
      },
      "outputs": [],
      "source": [
        "#Imports\n",
        "import random\n",
        "import numpy as np\n",
        "import pandas as pd\n",
        "from sklearn import metrics\n",
        "import matplotlib.pyplot as plt\n",
        "from sklearn.linear_model import Perceptron"
      ]
    },
    {
      "cell_type": "code",
      "execution_count": 2,
      "metadata": {
        "id": "RdRVxvityYuU"
      },
      "outputs": [],
      "source": [
        "#Use the last 5 digits of your roll number as the seed of the random number generator.\n",
        "random.seed(30049)"
      ]
    },
    {
      "cell_type": "code",
      "execution_count": 3,
      "metadata": {
        "id": "Ir-4aZHdyr_q"
      },
      "outputs": [],
      "source": [
        "#Helper Functions\n",
        "def signfn(val):\n",
        "  if val>=0:\n",
        "    return 1\n",
        "  else:\n",
        "    return -1\n",
        "    \n",
        "#For outliers\n",
        "def revsignfn(val):\n",
        "  if val>=0:\n",
        "    return -1\n",
        "  else:\n",
        "    return 1"
      ]
    },
    {
      "cell_type": "code",
      "execution_count": 4,
      "metadata": {
        "colab": {
          "base_uri": "https://localhost:8080/"
        },
        "id": "EIeUf3hv3lhd",
        "outputId": "7f6b2550-bd56-4cd1-9f80-df2af02ae99b"
      },
      "outputs": [
        {
          "name": "stdout",
          "output_type": "stream",
          "text": [
            "100\n"
          ]
        }
      ],
      "source": [
        "#Question 2(A)\n",
        "#Task: Choose a random 10D vector W, where each value lies between -1 and 1. Generate #N=100 datapoints (Xi, Yi) \n",
        "#such that Xi is a 10D vector whose elements lie between either (-10,-1) or (1,10), and Yi=sign(W.Xi). Basically you create a linearly separable dataset with wide margin.\n",
        "\n",
        "W = list()\n",
        "for i in range(10):\n",
        "  W.append(random.uniform(-1,1))\n",
        "\n",
        "W = np.asarray(W)\n",
        "N = 100\n",
        "dataset = list()\n",
        "for i in range(N):\n",
        "  Xi = list() #10 D vector\n",
        "  for j in range(10):\n",
        "    random_num = random.uniform(0,1)\n",
        "    if random_num > 0.5:\n",
        "      Xi.append(random.uniform(-10,-1))\n",
        "    else:\n",
        "      Xi.append(random.uniform(1,10))\n",
        "  Yi = signfn(np.dot(W.T, Xi))\n",
        "  dataset.append([Xi, Yi])\n",
        "print(len(dataset))"
      ]
    },
    {
      "cell_type": "code",
      "execution_count": 13,
      "metadata": {
        "colab": {
          "base_uri": "https://localhost:8080/"
        },
        "id": "ongN5piO3lj-",
        "outputId": "2a3c1dc1-dd18-4381-d4da-505e8c164fa6"
      },
      "outputs": [
        {
          "name": "stdout",
          "output_type": "stream",
          "text": [
            "[1, 2, 3, 4, 5, 6, 7, 8, 9, 10, 11, 12, 13, 14, 15, 16, 17, 18, 19]\n",
            "[19, 5, 5, 4, 6, 6, 7, 5, 4, 6, 7, 3, 5, 2, 7, 3, 4, 1, 0]\n"
          ]
        }
      ],
      "source": [
        "# Question 2(B)\n",
        "# Implement perceptron algorithm to find a separating hyperplane. \n",
        "\n",
        "# extract features X and targets Y from data\n",
        "X = np.asarray([d[0] for d in dataset])\n",
        "Y = np.asarray([d[1] for d in dataset])\n",
        "      \n",
        "def perceptron_algo(X, Y, lr=1):\n",
        "    #initiliation\n",
        "    dims = X.shape[0]  #X.shape[1] -> 10 (dims)\n",
        "    w = np.zeros(X.shape[1]) #X.shape[1] -> 100 (N)\n",
        "    updates = 0\n",
        "    hasconverged = False\n",
        "    iters = list()\n",
        "    updates_per_iter = list()\n",
        "    iter_num = 0\n",
        "    while not hasconverged:\n",
        "      iter_num+=1\n",
        "      updates_this_iter=0\n",
        "      hasconverged = True\n",
        "      for i in range(dims):  \n",
        "        if Y[i]*np.dot(w.T, X[i]) <= 0:\n",
        "          hasconverged = False \n",
        "          updates_this_iter += 1         #increase count\n",
        "          w += lr*Y[i]*X[i]\n",
        "          if updates_this_iter >=50:\n",
        "            hasconverged = True\n",
        "            break                       #Force converge if num updates is high\n",
        "      iters.append(iter_num)\n",
        "      updates_per_iter.append(updates_this_iter)\n",
        "    return iters, updates_per_iter\n",
        "\n",
        "iters, updates_per_iter = perceptron_algo(X, Y)\n",
        "print(iters)\n",
        "print(updates_per_iter)"
      ]
    },
    {
      "cell_type": "code",
      "execution_count": 14,
      "metadata": {
        "colab": {
          "base_uri": "https://localhost:8080/",
          "height": 295
        },
        "id": "wtoer4OMw1BK",
        "outputId": "7a7fd1c7-44b5-4ac9-dcdb-9b35585297be"
      },
      "outputs": [
        {
          "data": {
            "image/png": "[encoded data removed]",
            "text/plain": [
              "<Figure size 432x288 with 1 Axes>"
            ]
          },
          "metadata": {
            "needs_background": "light"
          },
          "output_type": "display_data"
        }
      ],
      "source": [
        "#Question 2(C)\n",
        "#Task: Plot the number of updates you make in each iteration\n",
        "plt.plot(iters, updates_per_iter)\n",
        "plt.title('Wide Margin')\n",
        "plt.xlabel('Iteration Number')\n",
        "plt.ylabel('Number of Updates')\n",
        "plt.show()"
      ]
    },
    {
      "cell_type": "code",
      "execution_count": 15,
      "metadata": {
        "id": "yWCN7jbtw1BM"
      },
      "outputs": [],
      "source": [
        "#Question 2(D)\n",
        "#Task: Now, reduce the margin of the dataset by adding 10 points, whose features lie between\n",
        "#between (-1,0) and (0,1). Labels are still generated as Yi=sign(W.Xi), i.e. the dataset is still linearly separable but now has narrower margin.\n",
        "\n",
        "X_new_points = list(X)\n",
        "Y_new_points = list(Y)\n",
        "\n",
        "n=10\n",
        "for i in range(n):\n",
        "  Xi = list() #10 D vector\n",
        "  for j in range(10):\n",
        "    random_num = random.uniform(0,1)\n",
        "    if random_num > 0.5:\n",
        "      Xi.append(random.uniform(-1,0))\n",
        "    else:\n",
        "      Xi.append(random.uniform(0,1))\n",
        "  Yi = signfn(np.dot(W.T, Xi))\n",
        "  X_new_points.append(Xi)\n",
        "  Y_new_points.append(Yi)\n",
        "\n",
        "X_narrow = np.asarray(X_new_points)\n",
        "Y_narrow = np.asarray(Y_new_points)"
      ]
    },
    {
      "cell_type": "code",
      "execution_count": 16,
      "metadata": {
        "colab": {
          "base_uri": "https://localhost:8080/",
          "height": 295
        },
        "id": "QQLnCIhow1BM",
        "outputId": "1eef4acb-3019-4a9a-e1e4-f573fb8e271f"
      },
      "outputs": [
        {
          "data": {
            "image/png": "[encoded data removed]",
            "text/plain": [
              "<Figure size 432x288 with 1 Axes>"
            ]
          },
          "metadata": {
            "needs_background": "light"
          },
          "output_type": "display_data"
        }
      ],
      "source": [
        "#Question 2(E)\n",
        "# Task: Run the perceptron algorithm again and plot the number of updates in each iteration.\n",
        "iters_narrow, updates_per_iter_narrow = perceptron_algo(X_narrow, Y_narrow)\n",
        "plt.plot(iters_narrow, updates_per_iter_narrow)\n",
        "plt.title('Narrow Margin')\n",
        "plt.xlabel('Iteration Number')\n",
        "plt.ylabel('Number of Updates')\n",
        "plt.show()"
      ]
    },
    {
      "cell_type": "code",
      "execution_count": 17,
      "metadata": {
        "id": "Aa8PcW6Xw1BO"
      },
      "outputs": [],
      "source": [
        "#Question 2(F)\n",
        "#Task: Add 5 “outliers” on both sides of W\n",
        "X_with_outliers = list(X)\n",
        "Y_with_outliers = list(Y)\n",
        "\n",
        "n=5\n",
        "for i in range(n):\n",
        "  Xi = list() #10 D vector\n",
        "  for j in range(10):\n",
        "    random_num = random.uniform(0,1)\n",
        "    if random_num > 0.5:\n",
        "      Xi.append(random.uniform(-1,0))\n",
        "    else:\n",
        "      Xi.append(random.uniform(0,1))\n",
        "  Yi = revsignfn(np.dot(W.T, Xi)) #adding reverse label for outliers\n",
        "  X_with_outliers.append(Xi)\n",
        "  Y_with_outliers.append(Yi)\n",
        "\n",
        "X_with_outliers = np.asarray(X_with_outliers)\n",
        "Y_with_outliers = np.asarray(Y_with_outliers)"
      ]
    },
    {
      "cell_type": "code",
      "execution_count": null,
      "metadata": {
        "id": "jDBAkB6Dw1BO"
      },
      "outputs": [],
      "source": [
        "#Question 2(G)\n",
        "#Task: Run the perceptron and plot the number of updates in each iteration\n",
        "iters_out, updates_per_iter_out = perceptron_algo(X_with_outliers, Y_with_outliers)\n",
        "plt.plot(iters_out, updates_per_iter_out)\n",
        "plt.title('New Margin with outliers')\n",
        "plt.xlabel('Iteration Number')\n",
        "plt.ylabel('Number of Updates')\n",
        "plt.show()"
      ]
    },
    {
      "cell_type": "code",
      "execution_count": null,
      "metadata": {
        "id": "YKLbdGLQ51-6"
      },
      "outputs": [],
      "source": []
    }
  ],
  "metadata": {
    "accelerator": "GPU",
    "colab": {
      "provenance": []
    },
    "gpuClass": "standard",
    "kernelspec": {
      "display_name": "Python 3",
      "name": "python3"
    },
    "language_info": {
      "name": "python"
    }
  },
  "nbformat": 4,
  "nbformat_minor": 0
}
