{
  "cells": [
    {
      "cell_type": "markdown",
      "metadata": {
        "id": "svvqtsqJykCy"
      },
      "source": [
        "# **MLFA LAb Test Question 1**"
      ]
    },
    {
      "cell_type": "code",
      "execution_count": 1,
      "metadata": {
        "id": "yIXNUUQ6yjEt"
      },
      "outputs": [],
      "source": [
        "#Imports\n",
        "import random\n",
        "import numpy as np\n",
        "import pandas as pd\n",
        "import matplotlib.pyplot as plt\n",
        "from sklearn.tree import DecisionTreeClassifier\n",
        "from sklearn.linear_model import LinearRegression"
      ]
    },
    {
      "cell_type": "code",
      "execution_count": null,
      "metadata": {
        "id": "ku_H4jg8ySTj"
      },
      "outputs": [],
      "source": [
        "#Use the last 5 digits of your roll number as the seed of the random number generator.\n",
        "random.seed(30049)"
      ]
    },
    {
      "cell_type": "code",
      "execution_count": 2,
      "metadata": {
        "colab": {
          "base_uri": "https://localhost:8080/"
        },
        "id": "EIeUf3hv3lhd",
        "outputId": "99f7fe0c-c8a1-48f0-9cea-c0ea65c4d84e"
      },
      "outputs": [
        {
          "name": "stdout",
          "output_type": "stream",
          "text": [
            "[0.71631698 1.36615423 2.9133137  3.79626588 4.41853513]\n"
          ]
        }
      ],
      "source": [
        "#Question 1(A)\n",
        "#Task: Choose a random 5D vector W, where the first dimension lies between (0,1), 2nd dimension between (1,2), 3rd between (2,3) etc.\n",
        "\n",
        "W = np.asarray([random.uniform(0, 1),\n",
        "     random.uniform(1, 2),\n",
        "     random.uniform(2, 3),\n",
        "     random.uniform(3, 4),\n",
        "     random.uniform(4, 5)])\n",
        "print(W)"
      ]
    },
    {
      "cell_type": "code",
      "execution_count": 3,
      "metadata": {
        "colab": {
          "base_uri": "https://localhost:8080/"
        },
        "id": "ongN5piO3lj-",
        "outputId": "3b69f76e-1b32-4651-8279-8dfd943cf4a1"
      },
      "outputs": [
        {
          "name": "stdout",
          "output_type": "stream",
          "text": [
            "1000\n"
          ]
        }
      ],
      "source": [
        "#Question 1(B)\n",
        "#Task: Use it to generate N=1000 data-points {Xi, Yi}, where Yi = W.Xi + ei, where Xi is a 5D feature vector \n",
        "#where each feature is uniformly between (-10, 10) and ei is a random value between -1 and 1.\n",
        "\n",
        "N=1000\n",
        "dataset = list()\n",
        "for i in range(0, N):\n",
        "  X = np.asarray([random.uniform(-10,10), random.uniform(-10,10), random.uniform(-10,10), random.uniform(-10,10), random.uniform(-10,10)])\n",
        "  e = random.uniform(-1,1)\n",
        "  Y = np.dot(W.T,X) + e\n",
        "  dataset.append([X, Y])\n",
        "print(len(dataset))"
      ]
    },
    {
      "cell_type": "code",
      "execution_count": 4,
      "metadata": {
        "colab": {
          "base_uri": "https://localhost:8080/"
        },
        "id": "lbQik4FN3lmh",
        "outputId": "c63f2ee8-88a0-4731-e2c7-99ae026c85d4"
      },
      "outputs": [
        {
          "name": "stdout",
          "output_type": "stream",
          "text": [
            "Estimated value of W1: [0.71230276 1.36430493 2.91569462 3.79710681 4.42118946]\n"
          ]
        }
      ],
      "source": [
        "#Question 1(C)\n",
        "#Task: Fit a linear regression model on (Xi, Yi) and estimate W1. \n",
        "\n",
        "# extract features X and targets Y from data\n",
        "X = [d[0] for d in dataset]\n",
        "Y = [d[1] for d in dataset]\n",
        "\n",
        "# fit linear regression model\n",
        "lr = LinearRegression()\n",
        "model = lr.fit(X, Y)\n",
        "\n",
        "# get estimated coefficients (including intercept)\n",
        "# W1 = np.asarray([model.intercept_] + list(model.coef_))\n",
        "W1 = np.asarray(list(model.coef_)) #not considering bias as it would lead to 6D vector and e is not included in W\n",
        "\n",
        "print(\"Estimated value of W1:\", W1)"
      ]
    },
    {
      "cell_type": "code",
      "execution_count": 5,
      "metadata": {
        "colab": {
          "base_uri": "https://localhost:8080/"
        },
        "id": "VwDjbAwz3lox",
        "outputId": "49e117cf-495f-4b1d-c7db-ad18277ba884"
      },
      "outputs": [
        {
          "name": "stdout",
          "output_type": "stream",
          "text": [
            "Estimation error ||W-W1||_2: 0.005740665948707409\n",
            "Mean Squared Error: 0.33200311788998005\n"
          ]
        }
      ],
      "source": [
        "#Question 1(D)\n",
        "#Task: Calculate the estimation error ||W-W1||2 and the MSE (1/N)*∑(Yi-W1.Xi)2\n",
        "\n",
        "# calculate ||W-W1||_2\n",
        "error_norm = np.linalg.norm(W - W1)\n",
        "print(\"Estimation error ||W-W1||_2:\", error_norm)\n",
        "\n",
        "# calculate MSE\n",
        "Ypred = model.predict(X)\n",
        "MSE = np.mean((Y - Ypred)**2)\n",
        "print(\"Mean Squared Error:\", MSE)"
      ]
    },
    {
      "cell_type": "code",
      "execution_count": 6,
      "metadata": {
        "colab": {
          "base_uri": "https://localhost:8080/"
        },
        "id": "CYOhvhWm3lq8",
        "outputId": "b7796d24-1e2b-4bee-f37f-45dd49fe171f"
      },
      "outputs": [
        {
          "name": "stdout",
          "output_type": "stream",
          "text": [
            "Lambda = 1: Estimated values of W2: [0.68343745 1.33317431 2.88547701 3.76839719 4.39136651]\n",
            "Lambda = 2: Estimated values of W2: [0.654572   1.30204372 2.85525941 3.73968758 4.36154357]\n",
            "Lambda = 3: Estimated values of W2: [0.62570656 1.27091314 2.82504181 3.71097796 4.33172062]\n",
            "Lambda = 4: Estimated values of W2: [0.59684111 1.23978256 2.79482421 3.68226835 4.30189768]\n",
            "Lambda = 5: Estimated values of W2: [0.56797567 1.20865198 2.76460661 3.65355873 4.27207473]\n",
            "Lambda = 6: Estimated values of W2: [0.53911022 1.1775214  2.734389   3.62484911 4.24225179]\n",
            "Lambda = 7: Estimated values of W2: [0.51024478 1.14639082 2.7041714  3.5961395  4.21242884]\n",
            "Lambda = 8: Estimated values of W2: [0.48137933 1.11526024 2.6739538  3.56742988 4.1826059 ]\n",
            "Lambda = 9: Estimated values of W2: [0.45251389 1.08412966 2.6437362  3.53872027 4.15278296]\n",
            "Lambda = 10: Estimated values of W2: [0.42364845 1.05299908 2.61351859 3.51001065 4.12296001]\n",
            "Lambda = 11: Estimated values of W2: [0.394783   1.0218685  2.58330099 3.48130104 4.09313707]\n",
            "Lambda = 12: Estimated values of W2: [0.36591756 0.99073792 2.55308339 3.45259142 4.06331412]\n",
            "Lambda = 13: Estimated values of W2: [0.33705211 0.95960734 2.52286579 3.4238818  4.03349118]\n",
            "Lambda = 14: Estimated values of W2: [0.30818667 0.92847676 2.49264819 3.39517219 4.00366823]\n",
            "Lambda = 15: Estimated values of W2: [0.27932122 0.89734618 2.46243058 3.36646257 3.97384529]\n",
            "Lambda = 16: Estimated values of W2: [0.25045578 0.8662156  2.43221298 3.33775296 3.94402235]\n",
            "Lambda = 17: Estimated values of W2: [0.22159033 0.83508502 2.40199538 3.30904334 3.9141994 ]\n",
            "Lambda = 18: Estimated values of W2: [0.19272489 0.80395444 2.37177778 3.28033373 3.88437646]\n",
            "Lambda = 19: Estimated values of W2: [0.16385945 0.77282385 2.34156017 3.25162411 3.85455351]\n",
            "Lambda = 20: Estimated values of W2: [0.134994   0.74169327 2.31134257 3.2229145  3.82473057]\n"
          ]
        }
      ],
      "source": [
        "#Question 1(E)\n",
        "#Task: Fit a LASSO regression model on (Xi, Yi) and estimate W2 for different values of λ (1 to 20).\n",
        "\n",
        "from sklearn.linear_model import Lasso\n",
        "\n",
        "# set up LASSO models for different values of lambda\n",
        "lambda_vals = list(range(1, 21))\n",
        "W2_est = list()\n",
        "for lam in lambda_vals:\n",
        "    lasso_model = Lasso(alpha=lam).fit(X, Y)\n",
        "    W2 = np.asarray(list(lasso_model.coef_))\n",
        "    W2_est.append(W2)\n",
        "\n",
        "# print estimated values of W2 for different lambda values\n",
        "for i, lam in enumerate(lambda_vals):\n",
        "    print(f\"Lambda = {lam}: Estimated values of W2:\", W2_est[i])"
      ]
    },
    {
      "cell_type": "code",
      "execution_count": 7,
      "metadata": {
        "id": "9lwCrIfu3ltE"
      },
      "outputs": [],
      "source": [
        "#Question 1(F)\n",
        "#Task: Sparsify each W2 to obtain W3 by setting all values below a certain threshold to 0 (you can choose the threshold). Plot the MSE (1/N)*∑(Yi-W3.Xi)2 as a function of λ.\n",
        "\n",
        "# set a threshold for sparsity\n",
        "threshold = 0.5\n",
        "\n",
        "# sparsify each W2 to obtain W3\n",
        "W3_est = []\n",
        "for i in range(len(lambda_vals)):\n",
        "    W2 = W2_est[i]\n",
        "    # W3 = [W2[0]] + [0 if abs(val) < threshold else val for val in W2[1:]]\n",
        "    W3 = [0 if abs(val) < threshold else val for val in W2]\n",
        "    W3_est.append(W3)\n",
        "  \n",
        "\n",
        "MSE_lambda_vals = []\n",
        "for i in range(len(lambda_vals)):\n",
        "  W3 = np.asarray(W3_est[i])\n",
        "  mse_vals = list()\n",
        "  for j in range(0,N):\n",
        "    Ypred = np.dot(W3.T, X[j])\n",
        "    err = (Y[j]-Ypred)**2\n",
        "    mse_vals.append(err)\n",
        "  mse_vals = np.asarray(mse_vals)\n",
        "  MSE_lambda_vals.append(np.mean(mse_vals))"
      ]
    },
    {
      "cell_type": "code",
      "execution_count": 8,
      "metadata": {
        "colab": {
          "base_uri": "https://localhost:8080/",
          "height": 279
        },
        "id": "KtG8mEJu3lve",
        "outputId": "c26f6db5-5cf1-49f8-d3de-219e98d2c9c2"
      },
      "outputs": [
        {
          "data": {
            "text/plain": [
              "Text(0, 0.5, 'MSE')"
            ]
          },
          "execution_count": 8,
          "metadata": {},
          "output_type": "execute_result"
        },
        {
          "data": {
            "image/png": "[encoded data removed]",
            "text/plain": [
              "<Figure size 504x252 with 1 Axes>"
            ]
          },
          "metadata": {
            "needs_background": "light"
          },
          "output_type": "display_data"
        }
      ],
      "source": [
        "# plot results\n",
        "from matplotlib import pyplot as plt\n",
        "plt.rcParams[\"figure.figsize\"] = [7.00, 3.50]\n",
        "plt.rcParams[\"figure.autolayout\"] = True\n",
        "x = lambda_vals\n",
        "y = MSE_lambda_vals\n",
        "default_x_ticks = range(len(x))\n",
        "plt.plot(default_x_ticks, y)\n",
        "plt.xticks(default_x_ticks, x)\n",
        "plt.xlabel(\"Lambda\")\n",
        "plt.ylabel(\"MSE\")"
      ]
    }
  ],
  "metadata": {
    "accelerator": "GPU",
    "colab": {
      "provenance": []
    },
    "gpuClass": "standard",
    "kernelspec": {
      "display_name": "Python 3",
      "name": "python3"
    },
    "language_info": {
      "name": "python"
    }
  },
  "nbformat": 4,
  "nbformat_minor": 0
}
