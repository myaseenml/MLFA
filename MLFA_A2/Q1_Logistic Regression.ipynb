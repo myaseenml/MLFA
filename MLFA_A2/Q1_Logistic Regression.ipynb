{
  "nbformat": 4,
  "nbformat_minor": 0,
  "metadata": {
    "colab": {
      "name": "Assignment_Logistic Regression.ipynb",
      "provenance": [],
      "collapsed_sections": []
    },
    "kernelspec": {
      "display_name": "Python 3",
      "name": "python3"
    }
  },
  "cells": [
    {
      "cell_type": "markdown",
      "metadata": {
        "id": "cB-uAPFjwTac"
      },
      "source": [
        "# ***` Logistic Regression `***\n",
        "\n",
        "***` Import the Iris data which discusses about three species of flowers namely \"Setosa\",\"Verisicolor\" and \"Virginica\" Your task is to build a logistic regression model to distinguish between two  of these speicies using features like \"Sepal Length\", \"Sepal Width\", \"Petal Length\" and \"Petal Width\"`***\n",
        "\n",
        "`1)Write a sigmoid function and visualize the sigmoid function,by considering x in the range of (-10,10).`\n",
        "\n",
        "`2)Plot impact of logloss for single forecasts (You can import log_loss from sklearn.metrics). Make predictions as 0 to 1 in 0.01 increments. (For example,yhat = [x*0.01 for x in range(0, 101)]).Evaluate predictions for a 0 true value.Plot a graph between y_hat and log_loss`\n",
        "\n",
        "`3)Find the difference between minimum log loss for label 0 and label 1 [1.5 marks]`\n",
        "\n",
        "`3)Import the Iris Data, and visualize the data to an idea about it.`\n",
        "\n",
        "`4)Convert the char labels to numerical as logistic regression takes only 0's and 1's and then create new array of numerical labels.After following the procedure as mentioned in the comments , find the difference between means of sepal length of speices \"Setosa\"(label 0) and \"Versicolor\"(label 1).[1 marks]`\n",
        "\n",
        "`5)Split the data in X,y and convert them into arrays`\n",
        "\n",
        "`6)Use sklearn to split the data (**Important** Consider random_state=42 and test_size=0.2)and perform Logistic Regression`\n",
        "\n",
        "`7)Find the weights and bias and save it in a list[5 marks]`\n",
        "\n",
        "`8)Make a prediction on the test data.Find the accuracy of the prediction.[1 marks]`\n",
        "\n",
        "`9)Also predict the species of the flower whose sepal length=4.9cm\tsepal width=4cm\tpetal length=1.2cm\tpetal width=0.4cm and return the Species of the data.[1.5 marks]`\n"
      ]
    },
    {
      "cell_type": "code",
      "metadata": {
        "id": "mm-qMhGZ4fA4"
      },
      "source": [
        "# Run this cell\n",
        "# import important libraries library\n",
        "import numpy as np\n",
        "import pandas as pd\n",
        "from sklearn import datasets\n",
        "from sklearn import model_selection\n",
        "from sklearn import metrics\n",
        "import matplotlib.pyplot as plt\n",
        "import seaborn as sns\n",
        "%matplotlib inline\n",
        "ans = [None]*5"
      ],
      "execution_count": null,
      "outputs": []
    },
    {
      "cell_type": "markdown",
      "metadata": {
        "id": "JXXUExSDCjnl"
      },
      "source": [
        "# ***`Importing and Visualizing Data`***\n",
        "\n"
      ]
    },
    {
      "cell_type": "code",
      "metadata": {
        "id": "FfmHr1_3463o"
      },
      "source": [
        "#Sigmoid Function\n",
        "#def sigmoid(x):\n",
        "...\n",
        "..."
      ],
      "execution_count": null,
      "outputs": []
    },
    {
      "cell_type": "code",
      "metadata": {
        "id": "TJ7YufS579-a"
      },
      "source": [
        "#Visualize sigmoid function\n",
        "#Create an array of x_val with values between -10 and 10 \n",
        "...\n",
        "#Find y_val, by using sigmoid function\n",
        "...\n",
        "#Plot x_val,y_val and label the graph\n",
        "...\n",
        "...\n",
        "..."
      ],
      "execution_count": null,
      "outputs": []
    },
    {
      "cell_type": "code",
      "metadata": {
        "id": "Ud5MNVfP5aay"
      },
      "source": [
        "# plot impact of logloss for single forecasts\n",
        "from sklearn.metrics import log_loss\n",
        "# predictions as 0 to 1 in 0.01 increments\n",
        "...\n",
        "# evaluate predictions for a 0 true value\n",
        "...\n",
        "# evaluate predictions for a 1 true value\n",
        "...\n",
        "# plot input to loss\n",
        "...\n",
        "..."
      ],
      "execution_count": null,
      "outputs": []
    },
    {
      "cell_type": "code",
      "metadata": {
        "id": "sru3xE4T5m4S"
      },
      "source": [
        "#Find the difference between minimum log loss for label 0 and label 1 \n",
        "ans[0]="
      ],
      "execution_count": null,
      "outputs": []
    },
    {
      "cell_type": "markdown",
      "metadata": {
        "id": "9MVaovvQDbkI"
      },
      "source": [
        "# ***`Processing the Data`***"
      ]
    },
    {
      "cell_type": "code",
      "metadata": {
        "id": "2Y-Rs5FsyvwO"
      },
      "source": [
        "#Import the dataset of iris from datasets.load_iris()\n",
        "...\n",
        "...\n",
        "..."
      ],
      "execution_count": null,
      "outputs": []
    },
    {
      "cell_type": "code",
      "metadata": {
        "id": "5eAYcnHNy2y_"
      },
      "source": [
        "#Look into the top 5 rows of data\n",
        "..."
      ],
      "execution_count": null,
      "outputs": []
    },
    {
      "cell_type": "code",
      "metadata": {
        "id": "A12q7ycCy5v9"
      },
      "source": [
        "#Visualize  the data using seaborn pairplot\n",
        "..."
      ],
      "execution_count": null,
      "outputs": []
    },
    {
      "cell_type": "code",
      "metadata": {
        "id": "cxxsJjf65p6U"
      },
      "source": [
        "# Convert char labels into numerical \n",
        "#import LabelEncoder which returns array of encoded labels\n",
        "from sklearn.preprocessing import LabelEncoder\n",
        "labelencoder=LabelEncoder()\n",
        "# Create new array of numerical labels\n",
        "..."
      ],
      "execution_count": null,
      "outputs": []
    },
    {
      "cell_type": "code",
      "metadata": {
        "id": "BzctMiRt5xur"
      },
      "source": [
        "# Drop old labels(char) data \n",
        "...\n",
        "# Substitute new labels(numerical) into data\n",
        "...\n",
        "..."
      ],
      "execution_count": null,
      "outputs": []
    },
    {
      "cell_type": "code",
      "metadata": {
        "id": "5EVpJnTw-xYf"
      },
      "source": [
        "# Logistic regression only takes the data which has labels 0 and 1, so consider only data['labels']<2\n",
        "# Considering Iris-setosa as \"0\" and Iris-versicolor as \"1\"\n",
        "...\n",
        "..."
      ],
      "execution_count": null,
      "outputs": []
    },
    {
      "cell_type": "code",
      "metadata": {
        "id": "Ay065RGxOFPU"
      },
      "source": [
        "#Find the difference between means of sepal length of speices \"Setosa\"(label 0) and \"Versicolor\"(label 1)\n",
        "ans[0]="
      ],
      "execution_count": null,
      "outputs": []
    },
    {
      "cell_type": "markdown",
      "metadata": {
        "id": "3-b3xRiIDkr1"
      },
      "source": [
        "# ***`Obtaining Weight Values`***"
      ]
    },
    {
      "cell_type": "code",
      "metadata": {
        "id": "pRo8pY80_w5L"
      },
      "source": [
        "# Split the data into X and y\n",
        "..."
      ],
      "execution_count": null,
      "outputs": []
    },
    {
      "cell_type": "code",
      "metadata": {
        "id": "kEi8Pqsr_9yo"
      },
      "source": [
        "# Visualize X,y\n",
        "..."
      ],
      "execution_count": null,
      "outputs": []
    },
    {
      "cell_type": "code",
      "metadata": {
        "id": "8E3fZvS0AC1l"
      },
      "source": [
        "# Convert X,y into arrays\n",
        "...\n",
        "..."
      ],
      "execution_count": null,
      "outputs": []
    },
    {
      "cell_type": "code",
      "metadata": {
        "id": "LtyRrzy7ALXe"
      },
      "source": [
        "#Using sklearn to split the data\n",
        "from sklearn.model_selection import train_test_split\n",
        "#Take the test size as 0.2 and random_state as 42\n",
        "..."
      ],
      "execution_count": null,
      "outputs": []
    },
    {
      "cell_type": "code",
      "metadata": {
        "id": "7ixwU-Il2xnY"
      },
      "source": [
        "#Importing Necessary Libraries for Logistic Regression \n",
        "...\n",
        "...\n",
        "#Building our model\n",
        "...\n",
        "...\n",
        "#Finding the parameter and bias\n",
        "...\n",
        "..."
      ],
      "execution_count": null,
      "outputs": []
    },
    {
      "cell_type": "code",
      "metadata": {
        "id": "zTwvokIegTet"
      },
      "source": [
        "#Printing the parameters and bias\n",
        "..."
      ],
      "execution_count": null,
      "outputs": []
    },
    {
      "cell_type": "code",
      "metadata": {
        "id": "L80X7QCKGd1W"
      },
      "source": [
        "#Save parameters and bias [w1,w2,w3,w4,b] as one vector \n",
        "#i.e if the answer should be in a 1 dimensional list\n",
        "...\n",
        "...\n",
        "ans[2]="
      ],
      "execution_count": null,
      "outputs": []
    },
    {
      "cell_type": "code",
      "metadata": {
        "id": "WT2GgltTHHr8"
      },
      "source": [
        "#Predicitng on our test data\n",
        "..."
      ],
      "execution_count": null,
      "outputs": []
    },
    {
      "cell_type": "code",
      "metadata": {
        "id": "2jvas_HlXULz"
      },
      "source": [
        "#Finding the accuracy\n",
        "...\n",
        "ans[3]="
      ],
      "execution_count": null,
      "outputs": []
    },
    {
      "cell_type": "code",
      "metadata": {
        "id": "hUSE7DJyVpTE"
      },
      "source": [
        "#Predict for the input [4.9,4,1.2,0.4] , save the answer ans[4] \"Setosa\" or \"Versicolor\"\n",
        "...\n",
        "..."
      ],
      "execution_count": null,
      "outputs": []
    },
    {
      "cell_type": "code",
      "metadata": {
        "id": "wl7bv6bq2MwR"
      },
      "source": [
        "#The class of the input \n",
        "ans[4]="
      ],
      "execution_count": null,
      "outputs": []
    },
    {
      "cell_type": "code",
      "metadata": {
        "id": "L1b4c3rkFj_w"
      },
      "source": [
        "# Run the this cell to submit your answers and get score evaluated\"\n",
        "# Do not make any changes in this cell\n",
        "# Simply execute it and move on\n",
        "\n",
        "ans = [item for item in ans]\n",
        "with open('ans.json', 'w') as f:\n",
        "    json.dump(ans, f)\n",
        "! ~/submit"
      ],
      "execution_count": null,
      "outputs": []
    }
  ]
}